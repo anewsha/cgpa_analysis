{
 "cells": [
  {
   "cell_type": "code",
   "execution_count": 1,
   "id": "28d3d430",
   "metadata": {},
   "outputs": [
    {
     "name": "stdout",
     "output_type": "stream",
     "text": [
      "1\n"
     ]
    }
   ],
   "source": [
    "print(1)"
   ]
  },
  {
   "cell_type": "code",
   "execution_count": 2,
   "id": "294fb05a",
   "metadata": {},
   "outputs": [],
   "source": [
    "import pandas as pd\n",
    "import numpy as np \n",
    "import matplotlib.pyplot as plt\n",
    "import seaborn as sns\n",
    "import plotly.express as px\n",
    "\n",
    "\n",
    "pd.set_option('display.max_columns', None)"
   ]
  },
  {
   "cell_type": "code",
   "execution_count": 3,
   "id": "f93f6a30",
   "metadata": {},
   "outputs": [
    {
     "data": {
      "text/html": [
       "<div>\n",
       "<style scoped>\n",
       "    .dataframe tbody tr th:only-of-type {\n",
       "        vertical-align: middle;\n",
       "    }\n",
       "\n",
       "    .dataframe tbody tr th {\n",
       "        vertical-align: top;\n",
       "    }\n",
       "\n",
       "    .dataframe thead th {\n",
       "        text-align: right;\n",
       "    }\n",
       "</style>\n",
       "<table border=\"1\" class=\"dataframe\">\n",
       "  <thead>\n",
       "    <tr style=\"text-align: right;\">\n",
       "      <th></th>\n",
       "      <th>Timestamp</th>\n",
       "      <th>Branch</th>\n",
       "      <th>Year?</th>\n",
       "      <th>Does your degree have a specialization?</th>\n",
       "      <th>1. Class Notes?</th>\n",
       "      <th>2. DA?</th>\n",
       "      <th>3. CGPA</th>\n",
       "      <th>4. Number of Backlogs?</th>\n",
       "      <th>5. Average Attendance? (%)</th>\n",
       "      <th>6. FFCS prep</th>\n",
       "      <th>7. Exam Prep</th>\n",
       "      <th>8. Active member of Clubs/Chapters/Teams/Anything that involved Night-slips or ODs( events etc)?</th>\n",
       "      <th>9. Number of events participated in like Hackathons/Ideathons / Events related to my degree or career?</th>\n",
       "      <th>10. What's the perfect seat for your?</th>\n",
       "      <th>11. Bond with teachers.</th>\n",
       "      <th>12. Study sources?</th>\n",
       "      <th>13. Any disciplinary action?</th>\n",
       "      <th>14. Hanging out with friends after classes?</th>\n",
       "      <th>15. Sleep and Exercise?</th>\n",
       "      <th>16. Study location?</th>\n",
       "      <th>17. Room type( dayscholar/ single bed/4bed/6bed etc)</th>\n",
       "    </tr>\n",
       "  </thead>\n",
       "  <tbody>\n",
       "    <tr>\n",
       "      <th>0</th>\n",
       "      <td>2025-05-04 21:48:31</td>\n",
       "      <td>IT</td>\n",
       "      <td>4th year</td>\n",
       "      <td>Nope</td>\n",
       "      <td>One notebook for all subjects. \"If I feel like...</td>\n",
       "      <td>5+ instances where submission was done one day...</td>\n",
       "      <td>7.85</td>\n",
       "      <td>5.0</td>\n",
       "      <td>7</td>\n",
       "      <td>I choose slots on the day of FFCS and hope the...</td>\n",
       "      <td>I download the syllabus one day before. [Last ...</td>\n",
       "      <td>Yes, I just want OD</td>\n",
       "      <td>2.0</td>\n",
       "      <td>First/second bench</td>\n",
       "      <td>They usually know me by face</td>\n",
       "      <td>Important topic slides, youtube, books</td>\n",
       "      <td>Yes</td>\n",
       "      <td>I exhaust my outing time and I wish there was ...</td>\n",
       "      <td>8+ hours | Exercise regularly</td>\n",
       "      <td>Room</td>\n",
       "      <td>6.0</td>\n",
       "    </tr>\n",
       "    <tr>\n",
       "      <th>1</th>\n",
       "      <td>2025-05-04 21:50:20</td>\n",
       "      <td>CSE (and its spl)</td>\n",
       "      <td>4th year</td>\n",
       "      <td>Yep</td>\n",
       "      <td>What notes? [no notes maintained]</td>\n",
       "      <td>Login: 11:55 =&gt; Submit: 11:59 [Saved in time]</td>\n",
       "      <td>9.15</td>\n",
       "      <td>0.0</td>\n",
       "      <td>3</td>\n",
       "      <td>I check profs, slots and have backup timetable...</td>\n",
       "      <td>I download the syllabus one day before. [Last ...</td>\n",
       "      <td>Yes, but I compensate for my academics somehow.</td>\n",
       "      <td>2.0</td>\n",
       "      <td>If there is something beyond last bench, I'd c...</td>\n",
       "      <td>They wouldn't recognize me at all.</td>\n",
       "      <td>All slides and youtube</td>\n",
       "      <td>No</td>\n",
       "      <td>30min - 1hr on somedays</td>\n",
       "      <td>4-6 hours | Occasionally exercise</td>\n",
       "      <td>Room</td>\n",
       "      <td>2.0</td>\n",
       "    </tr>\n",
       "    <tr>\n",
       "      <th>2</th>\n",
       "      <td>2025-05-04 21:51:01</td>\n",
       "      <td>ECE (and its spl)</td>\n",
       "      <td>4th year</td>\n",
       "      <td>Yep</td>\n",
       "      <td>I carry 3 pens to class. [Pro level notes]</td>\n",
       "      <td>I panic if it's not done by 11pm. [On time]</td>\n",
       "      <td>9.1</td>\n",
       "      <td>1.0</td>\n",
       "      <td>9</td>\n",
       "      <td>I check profs, slots and have backup timetable...</td>\n",
       "      <td>I start anytime in the previous week of exam. ...</td>\n",
       "      <td>Yes, but I compensate for my academics somehow.</td>\n",
       "      <td>2.0</td>\n",
       "      <td>First/second bench</td>\n",
       "      <td>They'd notice if I didn't attend the class.</td>\n",
       "      <td>All slides and youtube</td>\n",
       "      <td>No</td>\n",
       "      <td>30min - 1hr on somedays</td>\n",
       "      <td>4-6 hours | Occasionally exercise</td>\n",
       "      <td>Room</td>\n",
       "      <td>4.0</td>\n",
       "    </tr>\n",
       "    <tr>\n",
       "      <th>3</th>\n",
       "      <td>2025-05-04 21:51:21</td>\n",
       "      <td>ECE (and its spl)</td>\n",
       "      <td>4th year</td>\n",
       "      <td>Yep</td>\n",
       "      <td>I make notes that I can understand. [Well main...</td>\n",
       "      <td>I panic if it's not done by 11pm. [On time]</td>\n",
       "      <td>8.65</td>\n",
       "      <td>2.0</td>\n",
       "      <td>9</td>\n",
       "      <td>I check profs, slots and have backup timetable...</td>\n",
       "      <td>I start anytime in the previous week of exam. ...</td>\n",
       "      <td>Yes, I want to gain experience.</td>\n",
       "      <td>10.0</td>\n",
       "      <td>First/second bench</td>\n",
       "      <td>They usually know me by face</td>\n",
       "      <td>Important topic slides, youtube, books</td>\n",
       "      <td>No</td>\n",
       "      <td>30min - 1hr on somedays</td>\n",
       "      <td>6-8 hours | Exercise a few times a week</td>\n",
       "      <td>Library</td>\n",
       "      <td>4.0</td>\n",
       "    </tr>\n",
       "    <tr>\n",
       "      <th>4</th>\n",
       "      <td>2025-05-04 21:52:27</td>\n",
       "      <td>EEE/EIE (and its spl)</td>\n",
       "      <td>4th year</td>\n",
       "      <td>Nope</td>\n",
       "      <td>One notebook for all subjects. \"If I feel like...</td>\n",
       "      <td>Login: 11:55 =&gt; Submit: 11:59 [Saved in time]</td>\n",
       "      <td>7.38</td>\n",
       "      <td>0.0</td>\n",
       "      <td>8</td>\n",
       "      <td>I check profs, slots and have backup timetable...</td>\n",
       "      <td>I download the syllabus one day before. [Last ...</td>\n",
       "      <td>Yes, I want to gain experience.</td>\n",
       "      <td>10.0</td>\n",
       "      <td>Somewhere in the middle</td>\n",
       "      <td>They'd notice if I didn't attend the class.</td>\n",
       "      <td>Important topic slides, youtube, books</td>\n",
       "      <td>No</td>\n",
       "      <td>I exhaust my outing time and I wish there was ...</td>\n",
       "      <td>4-6 hours | Occasionally exercise</td>\n",
       "      <td>Room</td>\n",
       "      <td>2.0</td>\n",
       "    </tr>\n",
       "  </tbody>\n",
       "</table>\n",
       "</div>"
      ],
      "text/plain": [
       "            Timestamp                 Branch     Year?  \\\n",
       "0 2025-05-04 21:48:31                     IT  4th year   \n",
       "1 2025-05-04 21:50:20      CSE (and its spl)  4th year   \n",
       "2 2025-05-04 21:51:01      ECE (and its spl)  4th year   \n",
       "3 2025-05-04 21:51:21      ECE (and its spl)  4th year   \n",
       "4 2025-05-04 21:52:27  EEE/EIE (and its spl)  4th year   \n",
       "\n",
       "  Does your degree have a specialization?  \\\n",
       "0                                    Nope   \n",
       "1                                     Yep   \n",
       "2                                     Yep   \n",
       "3                                     Yep   \n",
       "4                                    Nope   \n",
       "\n",
       "                                     1. Class Notes?  \\\n",
       "0  One notebook for all subjects. \"If I feel like...   \n",
       "1                  What notes? [no notes maintained]   \n",
       "2         I carry 3 pens to class. [Pro level notes]   \n",
       "3  I make notes that I can understand. [Well main...   \n",
       "4  One notebook for all subjects. \"If I feel like...   \n",
       "\n",
       "                                              2. DA? 3. CGPA  \\\n",
       "0  5+ instances where submission was done one day...    7.85   \n",
       "1      Login: 11:55 => Submit: 11:59 [Saved in time]    9.15   \n",
       "2        I panic if it's not done by 11pm. [On time]     9.1   \n",
       "3        I panic if it's not done by 11pm. [On time]    8.65   \n",
       "4      Login: 11:55 => Submit: 11:59 [Saved in time]    7.38   \n",
       "\n",
       "   4. Number of Backlogs?  5. Average Attendance? (%)  \\\n",
       "0                     5.0                           7   \n",
       "1                     0.0                           3   \n",
       "2                     1.0                           9   \n",
       "3                     2.0                           9   \n",
       "4                     0.0                           8   \n",
       "\n",
       "                                        6. FFCS prep  \\\n",
       "0  I choose slots on the day of FFCS and hope the...   \n",
       "1  I check profs, slots and have backup timetable...   \n",
       "2  I check profs, slots and have backup timetable...   \n",
       "3  I check profs, slots and have backup timetable...   \n",
       "4  I check profs, slots and have backup timetable...   \n",
       "\n",
       "                                        7. Exam Prep  \\\n",
       "0  I download the syllabus one day before. [Last ...   \n",
       "1  I download the syllabus one day before. [Last ...   \n",
       "2  I start anytime in the previous week of exam. ...   \n",
       "3  I start anytime in the previous week of exam. ...   \n",
       "4  I download the syllabus one day before. [Last ...   \n",
       "\n",
       "  8. Active member of Clubs/Chapters/Teams/Anything that involved Night-slips or ODs( events etc)?  \\\n",
       "0                                Yes, I just want OD                                                 \n",
       "1    Yes, but I compensate for my academics somehow.                                                 \n",
       "2    Yes, but I compensate for my academics somehow.                                                 \n",
       "3                    Yes, I want to gain experience.                                                 \n",
       "4                    Yes, I want to gain experience.                                                 \n",
       "\n",
       "   9. Number of events participated in like Hackathons/Ideathons / Events related to my degree or career?  \\\n",
       "0                                                2.0                                                        \n",
       "1                                                2.0                                                        \n",
       "2                                                2.0                                                        \n",
       "3                                               10.0                                                        \n",
       "4                                               10.0                                                        \n",
       "\n",
       "               10. What's the perfect seat for your?  \\\n",
       "0                                 First/second bench   \n",
       "1  If there is something beyond last bench, I'd c...   \n",
       "2                                 First/second bench   \n",
       "3                                 First/second bench   \n",
       "4                            Somewhere in the middle   \n",
       "\n",
       "                       11. Bond with teachers.  \\\n",
       "0                 They usually know me by face   \n",
       "1           They wouldn't recognize me at all.   \n",
       "2  They'd notice if I didn't attend the class.   \n",
       "3                 They usually know me by face   \n",
       "4  They'd notice if I didn't attend the class.   \n",
       "\n",
       "                       12. Study sources? 13. Any disciplinary action?  \\\n",
       "0  Important topic slides, youtube, books                          Yes   \n",
       "1                  All slides and youtube                           No   \n",
       "2                  All slides and youtube                           No   \n",
       "3  Important topic slides, youtube, books                           No   \n",
       "4  Important topic slides, youtube, books                           No   \n",
       "\n",
       "         14. Hanging out with friends after classes?  \\\n",
       "0  I exhaust my outing time and I wish there was ...   \n",
       "1                            30min - 1hr on somedays   \n",
       "2                            30min - 1hr on somedays   \n",
       "3                            30min - 1hr on somedays   \n",
       "4  I exhaust my outing time and I wish there was ...   \n",
       "\n",
       "                   15. Sleep and Exercise? 16. Study location?  \\\n",
       "0            8+ hours | Exercise regularly                Room   \n",
       "1        4-6 hours | Occasionally exercise                Room   \n",
       "2        4-6 hours | Occasionally exercise                Room   \n",
       "3  6-8 hours | Exercise a few times a week             Library   \n",
       "4        4-6 hours | Occasionally exercise                Room   \n",
       "\n",
       "   17. Room type( dayscholar/ single bed/4bed/6bed etc)  \n",
       "0                                                6.0     \n",
       "1                                                2.0     \n",
       "2                                                4.0     \n",
       "3                                                4.0     \n",
       "4                                                2.0     "
      ]
     },
     "execution_count": 3,
     "metadata": {},
     "output_type": "execute_result"
    }
   ],
   "source": [
    "df = pd.read_excel(r\"F:\\Learn\\cgpa_analysis\\Data.xlsx\")\n",
    "df.head()"
   ]
  },
  {
   "cell_type": "code",
   "execution_count": 4,
   "id": "01eb6df2",
   "metadata": {},
   "outputs": [
    {
     "data": {
      "text/plain": [
       "Index(['Timestamp', 'Branch', 'Year?',\n",
       "       'Does your degree have a specialization?', '1. Class Notes?', '2. DA?',\n",
       "       '3. CGPA', '4. Number of Backlogs?', '5. Average Attendance? (%)',\n",
       "       '6. FFCS prep', '7. Exam Prep',\n",
       "       '8. Active member of Clubs/Chapters/Teams/Anything that involved Night-slips or ODs( events etc)?',\n",
       "       '9. Number of events participated in like Hackathons/Ideathons / Events related to my degree or career?',\n",
       "       '10. What's the perfect seat for your?', '11. Bond with teachers.',\n",
       "       '12. Study sources?', '13. Any disciplinary action?',\n",
       "       '14. Hanging out with friends after classes?',\n",
       "       '15. Sleep and Exercise?', '16. Study location?',\n",
       "       '17. Room type( dayscholar/ single bed/4bed/6bed etc)'],\n",
       "      dtype='object')"
      ]
     },
     "execution_count": 4,
     "metadata": {},
     "output_type": "execute_result"
    }
   ],
   "source": [
    "df.columns"
   ]
  },
  {
   "cell_type": "code",
   "execution_count": 5,
   "id": "87b3d9dd",
   "metadata": {},
   "outputs": [],
   "source": [
    "df.rename(columns={\n",
    "    'Year?':'year',\n",
    "     'Does your degree have a specialization?':\"spl\",\n",
    "     '1. Class Notes?':\"class_notes\",\n",
    "     '2. DA?':\"da\",\n",
    "     '3. CGPA':\"cgpa\",\n",
    "     '4. Number of Backlogs?':'backlogs',\n",
    "     '5. Average Attendance? (%)':\"attendance\",\n",
    "     '6. FFCS prep':\"ffcs\",\n",
    "      '7. Exam Prep':\"exam_prep\",\n",
    "      '8. Active member of Clubs/Chapters/Teams/Anything that involved Night-slips or ODs( events etc)?':\"clubs_chapters\",\n",
    "      '9. Number of events participated in like Hackathons/Ideathons / Events related to my degree or career?':\"competitions\",\n",
    "      \"10. What's the perfect seat for your?\":\"seating_arrangement\",\n",
    "      '11. Bond with teachers.':\"bond_teachers\",\n",
    "      '12. Study sources?':\"study_material\",\n",
    "      '13. Any disciplinary action?':\"disciplinary_action\",\n",
    "       '14. Hanging out with friends after classes?':\"social_life\",\n",
    "       '15. Sleep and Exercise?':\"lifestyle\",\n",
    "        '16. Study location?': \"study_location\",\n",
    "        '17. Room type( dayscholar/ single bed/4bed/6bed etc)':\"room_type\"\n",
    "\n",
    "}, inplace=True)"
   ]
  },
  {
   "cell_type": "code",
   "execution_count": 6,
   "id": "0706ed2d",
   "metadata": {},
   "outputs": [
    {
     "data": {
      "text/html": [
       "<div>\n",
       "<style scoped>\n",
       "    .dataframe tbody tr th:only-of-type {\n",
       "        vertical-align: middle;\n",
       "    }\n",
       "\n",
       "    .dataframe tbody tr th {\n",
       "        vertical-align: top;\n",
       "    }\n",
       "\n",
       "    .dataframe thead th {\n",
       "        text-align: right;\n",
       "    }\n",
       "</style>\n",
       "<table border=\"1\" class=\"dataframe\">\n",
       "  <thead>\n",
       "    <tr style=\"text-align: right;\">\n",
       "      <th></th>\n",
       "      <th>Timestamp</th>\n",
       "      <th>Branch</th>\n",
       "      <th>year</th>\n",
       "      <th>spl</th>\n",
       "      <th>class_notes</th>\n",
       "      <th>da</th>\n",
       "      <th>cgpa</th>\n",
       "      <th>backlogs</th>\n",
       "      <th>attendance</th>\n",
       "      <th>ffcs</th>\n",
       "      <th>exam_prep</th>\n",
       "      <th>clubs_chapters</th>\n",
       "      <th>competitions</th>\n",
       "      <th>seating_arrangement</th>\n",
       "      <th>bond_teachers</th>\n",
       "      <th>study_material</th>\n",
       "      <th>disciplinary_action</th>\n",
       "      <th>social_life</th>\n",
       "      <th>lifestyle</th>\n",
       "      <th>study_location</th>\n",
       "      <th>room_type</th>\n",
       "    </tr>\n",
       "  </thead>\n",
       "  <tbody>\n",
       "    <tr>\n",
       "      <th>0</th>\n",
       "      <td>2025-05-04 21:48:31</td>\n",
       "      <td>IT</td>\n",
       "      <td>4th year</td>\n",
       "      <td>Nope</td>\n",
       "      <td>One notebook for all subjects. \"If I feel like...</td>\n",
       "      <td>5+ instances where submission was done one day...</td>\n",
       "      <td>7.85</td>\n",
       "      <td>5.0</td>\n",
       "      <td>7</td>\n",
       "      <td>I choose slots on the day of FFCS and hope the...</td>\n",
       "      <td>I download the syllabus one day before. [Last ...</td>\n",
       "      <td>Yes, I just want OD</td>\n",
       "      <td>2.0</td>\n",
       "      <td>First/second bench</td>\n",
       "      <td>They usually know me by face</td>\n",
       "      <td>Important topic slides, youtube, books</td>\n",
       "      <td>Yes</td>\n",
       "      <td>I exhaust my outing time and I wish there was ...</td>\n",
       "      <td>8+ hours | Exercise regularly</td>\n",
       "      <td>Room</td>\n",
       "      <td>6.0</td>\n",
       "    </tr>\n",
       "    <tr>\n",
       "      <th>1</th>\n",
       "      <td>2025-05-04 21:50:20</td>\n",
       "      <td>CSE (and its spl)</td>\n",
       "      <td>4th year</td>\n",
       "      <td>Yep</td>\n",
       "      <td>What notes? [no notes maintained]</td>\n",
       "      <td>Login: 11:55 =&gt; Submit: 11:59 [Saved in time]</td>\n",
       "      <td>9.15</td>\n",
       "      <td>0.0</td>\n",
       "      <td>3</td>\n",
       "      <td>I check profs, slots and have backup timetable...</td>\n",
       "      <td>I download the syllabus one day before. [Last ...</td>\n",
       "      <td>Yes, but I compensate for my academics somehow.</td>\n",
       "      <td>2.0</td>\n",
       "      <td>If there is something beyond last bench, I'd c...</td>\n",
       "      <td>They wouldn't recognize me at all.</td>\n",
       "      <td>All slides and youtube</td>\n",
       "      <td>No</td>\n",
       "      <td>30min - 1hr on somedays</td>\n",
       "      <td>4-6 hours | Occasionally exercise</td>\n",
       "      <td>Room</td>\n",
       "      <td>2.0</td>\n",
       "    </tr>\n",
       "    <tr>\n",
       "      <th>2</th>\n",
       "      <td>2025-05-04 21:51:01</td>\n",
       "      <td>ECE (and its spl)</td>\n",
       "      <td>4th year</td>\n",
       "      <td>Yep</td>\n",
       "      <td>I carry 3 pens to class. [Pro level notes]</td>\n",
       "      <td>I panic if it's not done by 11pm. [On time]</td>\n",
       "      <td>9.1</td>\n",
       "      <td>1.0</td>\n",
       "      <td>9</td>\n",
       "      <td>I check profs, slots and have backup timetable...</td>\n",
       "      <td>I start anytime in the previous week of exam. ...</td>\n",
       "      <td>Yes, but I compensate for my academics somehow.</td>\n",
       "      <td>2.0</td>\n",
       "      <td>First/second bench</td>\n",
       "      <td>They'd notice if I didn't attend the class.</td>\n",
       "      <td>All slides and youtube</td>\n",
       "      <td>No</td>\n",
       "      <td>30min - 1hr on somedays</td>\n",
       "      <td>4-6 hours | Occasionally exercise</td>\n",
       "      <td>Room</td>\n",
       "      <td>4.0</td>\n",
       "    </tr>\n",
       "    <tr>\n",
       "      <th>3</th>\n",
       "      <td>2025-05-04 21:51:21</td>\n",
       "      <td>ECE (and its spl)</td>\n",
       "      <td>4th year</td>\n",
       "      <td>Yep</td>\n",
       "      <td>I make notes that I can understand. [Well main...</td>\n",
       "      <td>I panic if it's not done by 11pm. [On time]</td>\n",
       "      <td>8.65</td>\n",
       "      <td>2.0</td>\n",
       "      <td>9</td>\n",
       "      <td>I check profs, slots and have backup timetable...</td>\n",
       "      <td>I start anytime in the previous week of exam. ...</td>\n",
       "      <td>Yes, I want to gain experience.</td>\n",
       "      <td>10.0</td>\n",
       "      <td>First/second bench</td>\n",
       "      <td>They usually know me by face</td>\n",
       "      <td>Important topic slides, youtube, books</td>\n",
       "      <td>No</td>\n",
       "      <td>30min - 1hr on somedays</td>\n",
       "      <td>6-8 hours | Exercise a few times a week</td>\n",
       "      <td>Library</td>\n",
       "      <td>4.0</td>\n",
       "    </tr>\n",
       "    <tr>\n",
       "      <th>4</th>\n",
       "      <td>2025-05-04 21:52:27</td>\n",
       "      <td>EEE/EIE (and its spl)</td>\n",
       "      <td>4th year</td>\n",
       "      <td>Nope</td>\n",
       "      <td>One notebook for all subjects. \"If I feel like...</td>\n",
       "      <td>Login: 11:55 =&gt; Submit: 11:59 [Saved in time]</td>\n",
       "      <td>7.38</td>\n",
       "      <td>0.0</td>\n",
       "      <td>8</td>\n",
       "      <td>I check profs, slots and have backup timetable...</td>\n",
       "      <td>I download the syllabus one day before. [Last ...</td>\n",
       "      <td>Yes, I want to gain experience.</td>\n",
       "      <td>10.0</td>\n",
       "      <td>Somewhere in the middle</td>\n",
       "      <td>They'd notice if I didn't attend the class.</td>\n",
       "      <td>Important topic slides, youtube, books</td>\n",
       "      <td>No</td>\n",
       "      <td>I exhaust my outing time and I wish there was ...</td>\n",
       "      <td>4-6 hours | Occasionally exercise</td>\n",
       "      <td>Room</td>\n",
       "      <td>2.0</td>\n",
       "    </tr>\n",
       "  </tbody>\n",
       "</table>\n",
       "</div>"
      ],
      "text/plain": [
       "            Timestamp                 Branch      year   spl  \\\n",
       "0 2025-05-04 21:48:31                     IT  4th year  Nope   \n",
       "1 2025-05-04 21:50:20      CSE (and its spl)  4th year   Yep   \n",
       "2 2025-05-04 21:51:01      ECE (and its spl)  4th year   Yep   \n",
       "3 2025-05-04 21:51:21      ECE (and its spl)  4th year   Yep   \n",
       "4 2025-05-04 21:52:27  EEE/EIE (and its spl)  4th year  Nope   \n",
       "\n",
       "                                         class_notes  \\\n",
       "0  One notebook for all subjects. \"If I feel like...   \n",
       "1                  What notes? [no notes maintained]   \n",
       "2         I carry 3 pens to class. [Pro level notes]   \n",
       "3  I make notes that I can understand. [Well main...   \n",
       "4  One notebook for all subjects. \"If I feel like...   \n",
       "\n",
       "                                                  da  cgpa  backlogs  \\\n",
       "0  5+ instances where submission was done one day...  7.85       5.0   \n",
       "1      Login: 11:55 => Submit: 11:59 [Saved in time]  9.15       0.0   \n",
       "2        I panic if it's not done by 11pm. [On time]   9.1       1.0   \n",
       "3        I panic if it's not done by 11pm. [On time]  8.65       2.0   \n",
       "4      Login: 11:55 => Submit: 11:59 [Saved in time]  7.38       0.0   \n",
       "\n",
       "   attendance                                               ffcs  \\\n",
       "0           7  I choose slots on the day of FFCS and hope the...   \n",
       "1           3  I check profs, slots and have backup timetable...   \n",
       "2           9  I check profs, slots and have backup timetable...   \n",
       "3           9  I check profs, slots and have backup timetable...   \n",
       "4           8  I check profs, slots and have backup timetable...   \n",
       "\n",
       "                                           exam_prep  \\\n",
       "0  I download the syllabus one day before. [Last ...   \n",
       "1  I download the syllabus one day before. [Last ...   \n",
       "2  I start anytime in the previous week of exam. ...   \n",
       "3  I start anytime in the previous week of exam. ...   \n",
       "4  I download the syllabus one day before. [Last ...   \n",
       "\n",
       "                                    clubs_chapters  competitions  \\\n",
       "0                              Yes, I just want OD           2.0   \n",
       "1  Yes, but I compensate for my academics somehow.           2.0   \n",
       "2  Yes, but I compensate for my academics somehow.           2.0   \n",
       "3                  Yes, I want to gain experience.          10.0   \n",
       "4                  Yes, I want to gain experience.          10.0   \n",
       "\n",
       "                                 seating_arrangement  \\\n",
       "0                                 First/second bench   \n",
       "1  If there is something beyond last bench, I'd c...   \n",
       "2                                 First/second bench   \n",
       "3                                 First/second bench   \n",
       "4                            Somewhere in the middle   \n",
       "\n",
       "                                 bond_teachers  \\\n",
       "0                 They usually know me by face   \n",
       "1           They wouldn't recognize me at all.   \n",
       "2  They'd notice if I didn't attend the class.   \n",
       "3                 They usually know me by face   \n",
       "4  They'd notice if I didn't attend the class.   \n",
       "\n",
       "                           study_material disciplinary_action  \\\n",
       "0  Important topic slides, youtube, books                 Yes   \n",
       "1                  All slides and youtube                  No   \n",
       "2                  All slides and youtube                  No   \n",
       "3  Important topic slides, youtube, books                  No   \n",
       "4  Important topic slides, youtube, books                  No   \n",
       "\n",
       "                                         social_life  \\\n",
       "0  I exhaust my outing time and I wish there was ...   \n",
       "1                            30min - 1hr on somedays   \n",
       "2                            30min - 1hr on somedays   \n",
       "3                            30min - 1hr on somedays   \n",
       "4  I exhaust my outing time and I wish there was ...   \n",
       "\n",
       "                                 lifestyle study_location  room_type  \n",
       "0            8+ hours | Exercise regularly           Room        6.0  \n",
       "1        4-6 hours | Occasionally exercise           Room        2.0  \n",
       "2        4-6 hours | Occasionally exercise           Room        4.0  \n",
       "3  6-8 hours | Exercise a few times a week        Library        4.0  \n",
       "4        4-6 hours | Occasionally exercise           Room        2.0  "
      ]
     },
     "execution_count": 6,
     "metadata": {},
     "output_type": "execute_result"
    }
   ],
   "source": [
    "df.head()"
   ]
  },
  {
   "cell_type": "code",
   "execution_count": 7,
   "id": "b21fbc7a",
   "metadata": {},
   "outputs": [
    {
     "name": "stdout",
     "output_type": "stream",
     "text": [
      "<class 'pandas.core.frame.DataFrame'>\n",
      "RangeIndex: 200 entries, 0 to 199\n",
      "Data columns (total 21 columns):\n",
      " #   Column               Non-Null Count  Dtype         \n",
      "---  ------               --------------  -----         \n",
      " 0   Timestamp            200 non-null    datetime64[ns]\n",
      " 1   Branch               200 non-null    object        \n",
      " 2   year                 200 non-null    object        \n",
      " 3   spl                  200 non-null    object        \n",
      " 4   class_notes          199 non-null    object        \n",
      " 5   da                   200 non-null    object        \n",
      " 6   cgpa                 200 non-null    object        \n",
      " 7   backlogs             199 non-null    float64       \n",
      " 8   attendance           200 non-null    int64         \n",
      " 9   ffcs                 199 non-null    object        \n",
      " 10  exam_prep            198 non-null    object        \n",
      " 11  clubs_chapters       198 non-null    object        \n",
      " 12  competitions         197 non-null    float64       \n",
      " 13  seating_arrangement  198 non-null    object        \n",
      " 14  bond_teachers        199 non-null    object        \n",
      " 15  study_material       198 non-null    object        \n",
      " 16  disciplinary_action  199 non-null    object        \n",
      " 17  social_life          198 non-null    object        \n",
      " 18  lifestyle            198 non-null    object        \n",
      " 19  study_location       198 non-null    object        \n",
      " 20  room_type            199 non-null    float64       \n",
      "dtypes: datetime64[ns](1), float64(3), int64(1), object(16)\n",
      "memory usage: 32.9+ KB\n"
     ]
    }
   ],
   "source": [
    "df.info()"
   ]
  },
  {
   "cell_type": "markdown",
   "id": "c6121523",
   "metadata": {},
   "source": [
    "Nulls at:\n",
    "class notes, backlogs, ffcs, exam_prep,club_chapters,competitions, seating arrangement, bong_teachers, study_material, disciplinary_action,\n",
    "social_life, lifestyle, study_location, room_type"
   ]
  },
  {
   "cell_type": "markdown",
   "id": "0175356b",
   "metadata": {},
   "source": [
    "cgpa is object. Should have been float. \n",
    "this field is an indicator to bogus data points. rows with incorrect entries can be dropped. "
   ]
  },
  {
   "cell_type": "code",
   "execution_count": 8,
   "id": "d61628ed",
   "metadata": {},
   "outputs": [
    {
     "data": {
      "text/plain": [
       "6         Kya karoge jaan ke?\n",
       "22                     8.36.0\n",
       "61                          😛\n",
       "75              Who kya howe?\n",
       "83     Nahi bataunga(jk 8.52)\n",
       "95                   *secret*\n",
       "115    Nah dude too personal.\n",
       "122                     8-8.5\n",
       "132             Dont remember\n",
       "148                        9+\n",
       "158                  Nice try\n",
       "Name: cgpa, dtype: object"
      ]
     },
     "execution_count": 8,
     "metadata": {},
     "output_type": "execute_result"
    }
   ],
   "source": [
    "df['cgpa'][df['cgpa'].apply(lambda x: isinstance(x,str))]"
   ]
  },
  {
   "cell_type": "markdown",
   "id": "ef0df409",
   "metadata": {},
   "source": [
    "We need to handle the information given to us. \n",
    "- Some of them are genuine. Eg 8.3.3 (typo)\n",
    "- 9+ (will take 9)\n",
    "- Nahi bataunga(jk 8.52)\t\n",
    "- 8-8.5\t\n",
    "\n",
    "regex maybe?"
   ]
  },
  {
   "cell_type": "code",
   "execution_count": 9,
   "id": "1a252df3",
   "metadata": {},
   "outputs": [
    {
     "data": {
      "text/plain": [
       "-1.0"
      ]
     },
     "execution_count": 9,
     "metadata": {},
     "output_type": "execute_result"
    }
   ],
   "source": [
    "import re\n",
    "def clean_gpa(gpa):\n",
    "    gpa = gpa.strip()\n",
    "    s =  re.findall(r\"\\d| \\d.\\d|\\d.\\d\\d\", gpa)\n",
    "    i = float((s[0] if isinstance(s,list) else s) if s else \"-1\")\n",
    "    # i = float(.join(s).strip())\n",
    "    # print(i)\n",
    "    return i\n",
    "clean_gpa(\" Kya karoge jaan ke?\")\n"
   ]
  },
  {
   "cell_type": "code",
   "execution_count": 10,
   "id": "80fe32d4",
   "metadata": {},
   "outputs": [
    {
     "data": {
      "text/html": [
       "<div>\n",
       "<style scoped>\n",
       "    .dataframe tbody tr th:only-of-type {\n",
       "        vertical-align: middle;\n",
       "    }\n",
       "\n",
       "    .dataframe tbody tr th {\n",
       "        vertical-align: top;\n",
       "    }\n",
       "\n",
       "    .dataframe thead th {\n",
       "        text-align: right;\n",
       "    }\n",
       "</style>\n",
       "<table border=\"1\" class=\"dataframe\">\n",
       "  <thead>\n",
       "    <tr style=\"text-align: right;\">\n",
       "      <th></th>\n",
       "      <th>Timestamp</th>\n",
       "      <th>Branch</th>\n",
       "      <th>year</th>\n",
       "      <th>spl</th>\n",
       "      <th>class_notes</th>\n",
       "      <th>da</th>\n",
       "      <th>cgpa</th>\n",
       "      <th>backlogs</th>\n",
       "      <th>attendance</th>\n",
       "      <th>ffcs</th>\n",
       "      <th>exam_prep</th>\n",
       "      <th>clubs_chapters</th>\n",
       "      <th>competitions</th>\n",
       "      <th>seating_arrangement</th>\n",
       "      <th>bond_teachers</th>\n",
       "      <th>study_material</th>\n",
       "      <th>disciplinary_action</th>\n",
       "      <th>social_life</th>\n",
       "      <th>lifestyle</th>\n",
       "      <th>study_location</th>\n",
       "      <th>room_type</th>\n",
       "    </tr>\n",
       "  </thead>\n",
       "  <tbody>\n",
       "    <tr>\n",
       "      <th>0</th>\n",
       "      <td>2025-05-04 21:48:31</td>\n",
       "      <td>IT</td>\n",
       "      <td>4th year</td>\n",
       "      <td>Nope</td>\n",
       "      <td>One notebook for all subjects. \"If I feel like...</td>\n",
       "      <td>5+ instances where submission was done one day...</td>\n",
       "      <td>7.85</td>\n",
       "      <td>5.0</td>\n",
       "      <td>7</td>\n",
       "      <td>I choose slots on the day of FFCS and hope the...</td>\n",
       "      <td>I download the syllabus one day before. [Last ...</td>\n",
       "      <td>Yes, I just want OD</td>\n",
       "      <td>2.0</td>\n",
       "      <td>First/second bench</td>\n",
       "      <td>They usually know me by face</td>\n",
       "      <td>Important topic slides, youtube, books</td>\n",
       "      <td>Yes</td>\n",
       "      <td>I exhaust my outing time and I wish there was ...</td>\n",
       "      <td>8+ hours | Exercise regularly</td>\n",
       "      <td>Room</td>\n",
       "      <td>6.0</td>\n",
       "    </tr>\n",
       "    <tr>\n",
       "      <th>1</th>\n",
       "      <td>2025-05-04 21:50:20</td>\n",
       "      <td>CSE (and its spl)</td>\n",
       "      <td>4th year</td>\n",
       "      <td>Yep</td>\n",
       "      <td>What notes? [no notes maintained]</td>\n",
       "      <td>Login: 11:55 =&gt; Submit: 11:59 [Saved in time]</td>\n",
       "      <td>9.15</td>\n",
       "      <td>0.0</td>\n",
       "      <td>3</td>\n",
       "      <td>I check profs, slots and have backup timetable...</td>\n",
       "      <td>I download the syllabus one day before. [Last ...</td>\n",
       "      <td>Yes, but I compensate for my academics somehow.</td>\n",
       "      <td>2.0</td>\n",
       "      <td>If there is something beyond last bench, I'd c...</td>\n",
       "      <td>They wouldn't recognize me at all.</td>\n",
       "      <td>All slides and youtube</td>\n",
       "      <td>No</td>\n",
       "      <td>30min - 1hr on somedays</td>\n",
       "      <td>4-6 hours | Occasionally exercise</td>\n",
       "      <td>Room</td>\n",
       "      <td>2.0</td>\n",
       "    </tr>\n",
       "    <tr>\n",
       "      <th>2</th>\n",
       "      <td>2025-05-04 21:51:01</td>\n",
       "      <td>ECE (and its spl)</td>\n",
       "      <td>4th year</td>\n",
       "      <td>Yep</td>\n",
       "      <td>I carry 3 pens to class. [Pro level notes]</td>\n",
       "      <td>I panic if it's not done by 11pm. [On time]</td>\n",
       "      <td>9.1</td>\n",
       "      <td>1.0</td>\n",
       "      <td>9</td>\n",
       "      <td>I check profs, slots and have backup timetable...</td>\n",
       "      <td>I start anytime in the previous week of exam. ...</td>\n",
       "      <td>Yes, but I compensate for my academics somehow.</td>\n",
       "      <td>2.0</td>\n",
       "      <td>First/second bench</td>\n",
       "      <td>They'd notice if I didn't attend the class.</td>\n",
       "      <td>All slides and youtube</td>\n",
       "      <td>No</td>\n",
       "      <td>30min - 1hr on somedays</td>\n",
       "      <td>4-6 hours | Occasionally exercise</td>\n",
       "      <td>Room</td>\n",
       "      <td>4.0</td>\n",
       "    </tr>\n",
       "    <tr>\n",
       "      <th>3</th>\n",
       "      <td>2025-05-04 21:51:21</td>\n",
       "      <td>ECE (and its spl)</td>\n",
       "      <td>4th year</td>\n",
       "      <td>Yep</td>\n",
       "      <td>I make notes that I can understand. [Well main...</td>\n",
       "      <td>I panic if it's not done by 11pm. [On time]</td>\n",
       "      <td>8.65</td>\n",
       "      <td>2.0</td>\n",
       "      <td>9</td>\n",
       "      <td>I check profs, slots and have backup timetable...</td>\n",
       "      <td>I start anytime in the previous week of exam. ...</td>\n",
       "      <td>Yes, I want to gain experience.</td>\n",
       "      <td>10.0</td>\n",
       "      <td>First/second bench</td>\n",
       "      <td>They usually know me by face</td>\n",
       "      <td>Important topic slides, youtube, books</td>\n",
       "      <td>No</td>\n",
       "      <td>30min - 1hr on somedays</td>\n",
       "      <td>6-8 hours | Exercise a few times a week</td>\n",
       "      <td>Library</td>\n",
       "      <td>4.0</td>\n",
       "    </tr>\n",
       "    <tr>\n",
       "      <th>4</th>\n",
       "      <td>2025-05-04 21:52:27</td>\n",
       "      <td>EEE/EIE (and its spl)</td>\n",
       "      <td>4th year</td>\n",
       "      <td>Nope</td>\n",
       "      <td>One notebook for all subjects. \"If I feel like...</td>\n",
       "      <td>Login: 11:55 =&gt; Submit: 11:59 [Saved in time]</td>\n",
       "      <td>7.38</td>\n",
       "      <td>0.0</td>\n",
       "      <td>8</td>\n",
       "      <td>I check profs, slots and have backup timetable...</td>\n",
       "      <td>I download the syllabus one day before. [Last ...</td>\n",
       "      <td>Yes, I want to gain experience.</td>\n",
       "      <td>10.0</td>\n",
       "      <td>Somewhere in the middle</td>\n",
       "      <td>They'd notice if I didn't attend the class.</td>\n",
       "      <td>Important topic slides, youtube, books</td>\n",
       "      <td>No</td>\n",
       "      <td>I exhaust my outing time and I wish there was ...</td>\n",
       "      <td>4-6 hours | Occasionally exercise</td>\n",
       "      <td>Room</td>\n",
       "      <td>2.0</td>\n",
       "    </tr>\n",
       "  </tbody>\n",
       "</table>\n",
       "</div>"
      ],
      "text/plain": [
       "            Timestamp                 Branch      year   spl  \\\n",
       "0 2025-05-04 21:48:31                     IT  4th year  Nope   \n",
       "1 2025-05-04 21:50:20      CSE (and its spl)  4th year   Yep   \n",
       "2 2025-05-04 21:51:01      ECE (and its spl)  4th year   Yep   \n",
       "3 2025-05-04 21:51:21      ECE (and its spl)  4th year   Yep   \n",
       "4 2025-05-04 21:52:27  EEE/EIE (and its spl)  4th year  Nope   \n",
       "\n",
       "                                         class_notes  \\\n",
       "0  One notebook for all subjects. \"If I feel like...   \n",
       "1                  What notes? [no notes maintained]   \n",
       "2         I carry 3 pens to class. [Pro level notes]   \n",
       "3  I make notes that I can understand. [Well main...   \n",
       "4  One notebook for all subjects. \"If I feel like...   \n",
       "\n",
       "                                                  da  cgpa  backlogs  \\\n",
       "0  5+ instances where submission was done one day...  7.85       5.0   \n",
       "1      Login: 11:55 => Submit: 11:59 [Saved in time]  9.15       0.0   \n",
       "2        I panic if it's not done by 11pm. [On time]   9.1       1.0   \n",
       "3        I panic if it's not done by 11pm. [On time]  8.65       2.0   \n",
       "4      Login: 11:55 => Submit: 11:59 [Saved in time]  7.38       0.0   \n",
       "\n",
       "   attendance                                               ffcs  \\\n",
       "0           7  I choose slots on the day of FFCS and hope the...   \n",
       "1           3  I check profs, slots and have backup timetable...   \n",
       "2           9  I check profs, slots and have backup timetable...   \n",
       "3           9  I check profs, slots and have backup timetable...   \n",
       "4           8  I check profs, slots and have backup timetable...   \n",
       "\n",
       "                                           exam_prep  \\\n",
       "0  I download the syllabus one day before. [Last ...   \n",
       "1  I download the syllabus one day before. [Last ...   \n",
       "2  I start anytime in the previous week of exam. ...   \n",
       "3  I start anytime in the previous week of exam. ...   \n",
       "4  I download the syllabus one day before. [Last ...   \n",
       "\n",
       "                                    clubs_chapters  competitions  \\\n",
       "0                              Yes, I just want OD           2.0   \n",
       "1  Yes, but I compensate for my academics somehow.           2.0   \n",
       "2  Yes, but I compensate for my academics somehow.           2.0   \n",
       "3                  Yes, I want to gain experience.          10.0   \n",
       "4                  Yes, I want to gain experience.          10.0   \n",
       "\n",
       "                                 seating_arrangement  \\\n",
       "0                                 First/second bench   \n",
       "1  If there is something beyond last bench, I'd c...   \n",
       "2                                 First/second bench   \n",
       "3                                 First/second bench   \n",
       "4                            Somewhere in the middle   \n",
       "\n",
       "                                 bond_teachers  \\\n",
       "0                 They usually know me by face   \n",
       "1           They wouldn't recognize me at all.   \n",
       "2  They'd notice if I didn't attend the class.   \n",
       "3                 They usually know me by face   \n",
       "4  They'd notice if I didn't attend the class.   \n",
       "\n",
       "                           study_material disciplinary_action  \\\n",
       "0  Important topic slides, youtube, books                 Yes   \n",
       "1                  All slides and youtube                  No   \n",
       "2                  All slides and youtube                  No   \n",
       "3  Important topic slides, youtube, books                  No   \n",
       "4  Important topic slides, youtube, books                  No   \n",
       "\n",
       "                                         social_life  \\\n",
       "0  I exhaust my outing time and I wish there was ...   \n",
       "1                            30min - 1hr on somedays   \n",
       "2                            30min - 1hr on somedays   \n",
       "3                            30min - 1hr on somedays   \n",
       "4  I exhaust my outing time and I wish there was ...   \n",
       "\n",
       "                                 lifestyle study_location  room_type  \n",
       "0            8+ hours | Exercise regularly           Room        6.0  \n",
       "1        4-6 hours | Occasionally exercise           Room        2.0  \n",
       "2        4-6 hours | Occasionally exercise           Room        4.0  \n",
       "3  6-8 hours | Exercise a few times a week        Library        4.0  \n",
       "4        4-6 hours | Occasionally exercise           Room        2.0  "
      ]
     },
     "execution_count": 10,
     "metadata": {},
     "output_type": "execute_result"
    }
   ],
   "source": [
    "df.head()"
   ]
  },
  {
   "cell_type": "code",
   "execution_count": 11,
   "id": "2cd4b0f9",
   "metadata": {},
   "outputs": [
    {
     "data": {
      "text/plain": [
       "6     -1.0\n",
       "22     8.0\n",
       "61    -1.0\n",
       "75    -1.0\n",
       "83     8.5\n",
       "95    -1.0\n",
       "115   -1.0\n",
       "122    8.0\n",
       "132   -1.0\n",
       "148    9.0\n",
       "158   -1.0\n",
       "Name: cgpa, dtype: float64"
      ]
     },
     "execution_count": 11,
     "metadata": {},
     "output_type": "execute_result"
    }
   ],
   "source": [
    "temp = df['cgpa'][df['cgpa'].apply(lambda x: isinstance(x,str))].apply(lambda x: x if (isinstance(x,float) or isinstance(x,int)) else clean_gpa(x))\n",
    "temp"
   ]
  },
  {
   "cell_type": "code",
   "execution_count": 12,
   "id": "91ecc448",
   "metadata": {},
   "outputs": [],
   "source": [
    "df['cgpa'] = df['cgpa'].apply(lambda x: x if (isinstance(x,float) or isinstance(x,int)) else clean_gpa(x))"
   ]
  },
  {
   "cell_type": "code",
   "execution_count": 13,
   "id": "9530f386",
   "metadata": {},
   "outputs": [],
   "source": [
    "df_processed = df.loc[(df['cgpa']>0) & (df['cgpa']<=10)].copy()"
   ]
  },
  {
   "cell_type": "code",
   "execution_count": 14,
   "id": "39f31814",
   "metadata": {},
   "outputs": [
    {
     "name": "stdout",
     "output_type": "stream",
     "text": [
      "<class 'pandas.core.frame.DataFrame'>\n",
      "Index: 190 entries, 0 to 199\n",
      "Data columns (total 21 columns):\n",
      " #   Column               Non-Null Count  Dtype         \n",
      "---  ------               --------------  -----         \n",
      " 0   Timestamp            190 non-null    datetime64[ns]\n",
      " 1   Branch               190 non-null    object        \n",
      " 2   year                 190 non-null    object        \n",
      " 3   spl                  190 non-null    object        \n",
      " 4   class_notes          189 non-null    object        \n",
      " 5   da                   190 non-null    object        \n",
      " 6   cgpa                 190 non-null    float64       \n",
      " 7   backlogs             189 non-null    float64       \n",
      " 8   attendance           190 non-null    int64         \n",
      " 9   ffcs                 189 non-null    object        \n",
      " 10  exam_prep            188 non-null    object        \n",
      " 11  clubs_chapters       188 non-null    object        \n",
      " 12  competitions         188 non-null    float64       \n",
      " 13  seating_arrangement  189 non-null    object        \n",
      " 14  bond_teachers        190 non-null    object        \n",
      " 15  study_material       189 non-null    object        \n",
      " 16  disciplinary_action  190 non-null    object        \n",
      " 17  social_life          189 non-null    object        \n",
      " 18  lifestyle            189 non-null    object        \n",
      " 19  study_location       189 non-null    object        \n",
      " 20  room_type            190 non-null    float64       \n",
      "dtypes: datetime64[ns](1), float64(4), int64(1), object(15)\n",
      "memory usage: 32.7+ KB\n"
     ]
    }
   ],
   "source": [
    "df_processed.info()"
   ]
  },
  {
   "cell_type": "markdown",
   "id": "113383bd",
   "metadata": {},
   "source": [
    "# Columns"
   ]
  },
  {
   "cell_type": "code",
   "execution_count": 15,
   "id": "399c5e1a",
   "metadata": {},
   "outputs": [
    {
     "name": "stdout",
     "output_type": "stream",
     "text": [
      "<class 'pandas.core.frame.DataFrame'>\n",
      "Index: 190 entries, 0 to 199\n",
      "Data columns (total 21 columns):\n",
      " #   Column               Non-Null Count  Dtype         \n",
      "---  ------               --------------  -----         \n",
      " 0   Timestamp            190 non-null    datetime64[ns]\n",
      " 1   Branch               190 non-null    object        \n",
      " 2   year                 190 non-null    object        \n",
      " 3   spl                  190 non-null    object        \n",
      " 4   class_notes          190 non-null    object        \n",
      " 5   da                   190 non-null    object        \n",
      " 6   cgpa                 190 non-null    float64       \n",
      " 7   backlogs             190 non-null    object        \n",
      " 8   attendance           190 non-null    int64         \n",
      " 9   ffcs                 190 non-null    object        \n",
      " 10  exam_prep            190 non-null    object        \n",
      " 11  clubs_chapters       190 non-null    object        \n",
      " 12  competitions         190 non-null    object        \n",
      " 13  seating_arrangement  190 non-null    object        \n",
      " 14  bond_teachers        190 non-null    object        \n",
      " 15  study_material       190 non-null    object        \n",
      " 16  disciplinary_action  190 non-null    object        \n",
      " 17  social_life          190 non-null    object        \n",
      " 18  lifestyle            190 non-null    object        \n",
      " 19  study_location       190 non-null    object        \n",
      " 20  room_type            190 non-null    float64       \n",
      "dtypes: datetime64[ns](1), float64(2), int64(1), object(17)\n",
      "memory usage: 32.7+ KB\n"
     ]
    }
   ],
   "source": [
    "df_processed.fillna(\"Not Answered\").info()"
   ]
  },
  {
   "cell_type": "markdown",
   "metadata": {},
   "source": [
    "## Branch"
   ]
  },
  {
   "cell_type": "code",
   "execution_count": 17,
   "id": "71d5d771",
   "metadata": {},
   "outputs": [
    {
     "data": {
      "text/plain": [
       "(57, 21)"
      ]
     },
     "execution_count": 17,
     "metadata": {},
     "output_type": "execute_result"
    }
   ],
   "source": [
    "df_9ptrs = df_processed.loc[df_processed['cgpa']>=9]\n",
    "df_9ptrs.shape"
   ]
  },
  {
   "cell_type": "code",
   "execution_count": 18,
   "id": "2eeaa00e",
   "metadata": {},
   "outputs": [
    {
     "data": {
      "text/plain": [
       "<Axes: xlabel='Branch'>"
      ]
     },
     "execution_count": 18,
     "metadata": {},
     "output_type": "execute_result"
    },
    {
     "data": {
      "image/png": "[encoded data removed]",
      "text/plain": [
       "<Figure size 640x480 with 1 Axes>"
      ]
     },
     "metadata": {},
     "output_type": "display_data"
    }
   ],
   "source": [
    "df_9ptrs['Branch'].value_counts(normalize=True).plot(kind='bar')"
   ]
  },
  {
   "cell_type": "code",
   "execution_count": 19,
   "id": "16a55047",
   "metadata": {},
   "outputs": [
    {
     "data": {
      "text/plain": [
       "<Axes: ylabel='Branch'>"
      ]
     },
     "execution_count": 19,
     "metadata": {},
     "output_type": "execute_result"
    },
    {
     "data": {
      "image/png": "[encoded data removed]",
      "text/plain": [
       "<Figure size 640x480 with 1 Axes>"
      ]
     },
     "metadata": {},
     "output_type": "display_data"
    }
   ],
   "source": [
    "df_processed.groupby('Branch')['cgpa'].apply(lambda x: (x>=9).mean()).dropna().plot(kind='barh')"
   ]
  },
  {
   "cell_type": "markdown",
   "id": "a8568daf",
   "metadata": {},
   "source": [
    "## spl"
   ]
  },
  {
   "cell_type": "code",
   "execution_count": null,
   "id": "d9f3b82c",
   "metadata": {},
   "outputs": [
    {
     "data": {
      "application/vnd.plotly.v1+json": {
       "config": {
        "plotlyServerURL": "https://plot.ly"
       },
       "data": [
        {
         "labels": [
          "Nope",
          "Yep"
         ],
         "type": "pie",
         "values": {
          "bdata": "IBk=",
          "dtype": "i1"
         }
        }
       ],
       "layout": {
        "template": {
         "data": {
          "bar": [
           {
            "error_x": {
             "color": "#2a3f5f"
            },
            "error_y": {
             "color": "#2a3f5f"
            },
            "marker": {
             "line": {
              "color": "#E5ECF6",
              "width": 0.5
             },
             "pattern": {
              "fillmode": "overlay",
              "size": 10,
              "solidity": 0.2
             }
            },
            "type": "bar"
           }
          ],
          "barpolar": [
           {
            "marker": {
             "line": {
              "color": "#E5ECF6",
              "width": 0.5
             },
             "pattern": {
              "fillmode": "overlay",
              "size": 10,
              "solidity": 0.2
             }
            },
            "type": "barpolar"
           }
          ],
          "carpet": [
           {
            "aaxis": {
             "endlinecolor": "#2a3f5f",
             "gridcolor": "white",
             "linecolor": "white",
             "minorgridcolor": "white",
             "startlinecolor": "#2a3f5f"
            },
            "baxis": {
             "endlinecolor": "#2a3f5f",
             "gridcolor": "white",
             "linecolor": "white",
             "minorgridcolor": "white",
             "startlinecolor": "#2a3f5f"
            },
            "type": "carpet"
           }
          ],
          "choropleth": [
           {
            "colorbar": {
             "outlinewidth": 0,
             "ticks": ""
            },
            "type": "choropleth"
           }
          ],
          "contour": [
           {
            "colorbar": {
             "outlinewidth": 0,
             "ticks": ""
            },
            "colorscale": [
             [
              0,
              "#0d0887"
             ],
             [
              0.1111111111111111,
              "#46039f"
             ],
             [
              0.2222222222222222,
              "#7201a8"
             ],
             [
              0.3333333333333333,
              "#9c179e"
             ],
             [
              0.4444444444444444,
              "#bd3786"
             ],
             [
              0.5555555555555556,
              "#d8576b"
             ],
             [
              0.6666666666666666,
              "#ed7953"
             ],
             [
              0.7777777777777778,
              "#fb9f3a"
             ],
             [
              0.8888888888888888,
              "#fdca26"
             ],
             [
              1,
              "#f0f921"
             ]
            ],
            "type": "contour"
           }
          ],
          "contourcarpet": [
           {
            "colorbar": {
             "outlinewidth": 0,
             "ticks": ""
            },
            "type": "contourcarpet"
           }
          ],
          "heatmap": [
           {
            "colorbar": {
             "outlinewidth": 0,
             "ticks": ""
            },
            "colorscale": [
             [
              0,
              "#0d0887"
             ],
             [
              0.1111111111111111,
              "#46039f"
             ],
             [
              0.2222222222222222,
              "#7201a8"
             ],
             [
              0.3333333333333333,
              "#9c179e"
             ],
             [
              0.4444444444444444,
              "#bd3786"
             ],
             [
              0.5555555555555556,
              "#d8576b"
             ],
             [
              0.6666666666666666,
              "#ed7953"
             ],
             [
              0.7777777777777778,
              "#fb9f3a"
             ],
             [
              0.8888888888888888,
              "#fdca26"
             ],
             [
              1,
              "#f0f921"
             ]
            ],
            "type": "heatmap"
           }
          ],
          "histogram": [
           {
            "marker": {
             "pattern": {
              "fillmode": "overlay",
              "size": 10,
              "solidity": 0.2
             }
            },
            "type": "histogram"
           }
          ],
          "histogram2d": [
           {
            "colorbar": {
             "outlinewidth": 0,
             "ticks": ""
            },
            "colorscale": [
             [
              0,
              "#0d0887"
             ],
             [
              0.1111111111111111,
              "#46039f"
             ],
             [
              0.2222222222222222,
              "#7201a8"
             ],
             [
              0.3333333333333333,
              "#9c179e"
             ],
             [
              0.4444444444444444,
              "#bd3786"
             ],
             [
              0.5555555555555556,
              "#d8576b"
             ],
             [
              0.6666666666666666,
              "#ed7953"
             ],
             [
              0.7777777777777778,
              "#fb9f3a"
             ],
             [
              0.8888888888888888,
              "#fdca26"
             ],
             [
              1,
              "#f0f921"
             ]
            ],
            "type": "histogram2d"
           }
          ],
          "histogram2dcontour": [
           {
            "colorbar": {
             "outlinewidth": 0,
             "ticks": ""
            },
            "colorscale": [
             [
              0,
              "#0d0887"
             ],
             [
              0.1111111111111111,
              "#46039f"
             ],
             [
              0.2222222222222222,
              "#7201a8"
             ],
             [
              0.3333333333333333,
              "#9c179e"
             ],
             [
              0.4444444444444444,
              "#bd3786"
             ],
             [
              0.5555555555555556,
              "#d8576b"
             ],
             [
              0.6666666666666666,
              "#ed7953"
             ],
             [
              0.7777777777777778,
              "#fb9f3a"
             ],
             [
              0.8888888888888888,
              "#fdca26"
             ],
             [
              1,
              "#f0f921"
             ]
            ],
            "type": "histogram2dcontour"
           }
          ],
          "mesh3d": [
           {
            "colorbar": {
             "outlinewidth": 0,
             "ticks": ""
            },
            "type": "mesh3d"
           }
          ],
          "parcoords": [
           {
            "line": {
             "colorbar": {
              "outlinewidth": 0,
              "ticks": ""
             }
            },
            "type": "parcoords"
           }
          ],
          "pie": [
           {
            "automargin": true,
            "type": "pie"
           }
          ],
          "scatter": [
           {
            "fillpattern": {
             "fillmode": "overlay",
             "size": 10,
             "solidity": 0.2
            },
            "type": "scatter"
           }
          ],
          "scatter3d": [
           {
            "line": {
             "colorbar": {
              "outlinewidth": 0,
              "ticks": ""
             }
            },
            "marker": {
             "colorbar": {
              "outlinewidth": 0,
              "ticks": ""
             }
            },
            "type": "scatter3d"
           }
          ],
          "scattercarpet": [
           {
            "marker": {
             "colorbar": {
              "outlinewidth": 0,
              "ticks": ""
             }
            },
            "type": "scattercarpet"
           }
          ],
          "scattergeo": [
           {
            "marker": {
             "colorbar": {
              "outlinewidth": 0,
              "ticks": ""
             }
            },
            "type": "scattergeo"
           }
          ],
          "scattergl": [
           {
            "marker": {
             "colorbar": {
              "outlinewidth": 0,
              "ticks": ""
             }
            },
            "type": "scattergl"
           }
          ],
          "scattermap": [
           {
            "marker": {
             "colorbar": {
              "outlinewidth": 0,
              "ticks": ""
             }
            },
            "type": "scattermap"
           }
          ],
          "scattermapbox": [
           {
            "marker": {
             "colorbar": {
              "outlinewidth": 0,
              "ticks": ""
             }
            },
            "type": "scattermapbox"
           }
          ],
          "scatterpolar": [
           {
            "marker": {
             "colorbar": {
              "outlinewidth": 0,
              "ticks": ""
             }
            },
            "type": "scatterpolar"
           }
          ],
          "scatterpolargl": [
           {
            "marker": {
             "colorbar": {
              "outlinewidth": 0,
              "ticks": ""
             }
            },
            "type": "scatterpolargl"
           }
          ],
          "scatterternary": [
           {
            "marker": {
             "colorbar": {
              "outlinewidth": 0,
              "ticks": ""
             }
            },
            "type": "scatterternary"
           }
          ],
          "surface": [
           {
            "colorbar": {
             "outlinewidth": 0,
             "ticks": ""
            },
            "colorscale": [
             [
              0,
              "#0d0887"
             ],
             [
              0.1111111111111111,
              "#46039f"
             ],
             [
              0.2222222222222222,
              "#7201a8"
             ],
             [
              0.3333333333333333,
              "#9c179e"
             ],
             [
              0.4444444444444444,
              "#bd3786"
             ],
             [
              0.5555555555555556,
              "#d8576b"
             ],
             [
              0.6666666666666666,
              "#ed7953"
             ],
             [
              0.7777777777777778,
              "#fb9f3a"
             ],
             [
              0.8888888888888888,
              "#fdca26"
             ],
             [
              1,
              "#f0f921"
             ]
            ],
            "type": "surface"
           }
          ],
          "table": [
           {
            "cells": {
             "fill": {
              "color": "#EBF0F8"
             },
             "line": {
              "color": "white"
             }
            },
            "header": {
             "fill": {
              "color": "#C8D4E3"
             },
             "line": {
              "color": "white"
             }
            },
            "type": "table"
           }
          ]
         },
         "layout": {
          "annotationdefaults": {
           "arrowcolor": "#2a3f5f",
           "arrowhead": 0,
           "arrowwidth": 1
          },
          "autotypenumbers": "strict",
          "coloraxis": {
           "colorbar": {
            "outlinewidth": 0,
            "ticks": ""
           }
          },
          "colorscale": {
           "diverging": [
            [
             0,
             "#8e0152"
            ],
            [
             0.1,
             "#c51b7d"
            ],
            [
             0.2,
             "#de77ae"
            ],
            [
             0.3,
             "#f1b6da"
            ],
            [
             0.4,
             "#fde0ef"
            ],
            [
             0.5,
             "#f7f7f7"
            ],
            [
             0.6,
             "#e6f5d0"
            ],
            [
             0.7,
             "#b8e186"
            ],
            [
             0.8,
             "#7fbc41"
            ],
            [
             0.9,
             "#4d9221"
            ],
            [
             1,
             "#276419"
            ]
           ],
           "sequential": [
            [
             0,
             "#0d0887"
            ],
            [
             0.1111111111111111,
             "#46039f"
            ],
            [
             0.2222222222222222,
             "#7201a8"
            ],
            [
             0.3333333333333333,
             "#9c179e"
            ],
            [
             0.4444444444444444,
             "#bd3786"
            ],
            [
             0.5555555555555556,
             "#d8576b"
            ],
            [
             0.6666666666666666,
             "#ed7953"
            ],
            [
             0.7777777777777778,
             "#fb9f3a"
            ],
            [
             0.8888888888888888,
             "#fdca26"
            ],
            [
             1,
             "#f0f921"
            ]
           ],
           "sequentialminus": [
            [
             0,
             "#0d0887"
            ],
            [
             0.1111111111111111,
             "#46039f"
            ],
            [
             0.2222222222222222,
             "#7201a8"
            ],
            [
             0.3333333333333333,
             "#9c179e"
            ],
            [
             0.4444444444444444,
             "#bd3786"
            ],
            [
             0.5555555555555556,
             "#d8576b"
            ],
            [
             0.6666666666666666,
             "#ed7953"
            ],
            [
             0.7777777777777778,
             "#fb9f3a"
            ],
            [
             0.8888888888888888,
             "#fdca26"
            ],
            [
             1,
             "#f0f921"
            ]
           ]
          },
          "colorway": [
           "#636efa",
           "#EF553B",
           "#00cc96",
           "#ab63fa",
           "#FFA15A",
           "#19d3f3",
           "#FF6692",
           "#B6E880",
           "#FF97FF",
           "#FECB52"
          ],
          "font": {
           "color": "#2a3f5f"
          },
          "geo": {
           "bgcolor": "white",
           "lakecolor": "white",
           "landcolor": "#E5ECF6",
           "showlakes": true,
           "showland": true,
           "subunitcolor": "white"
          },
          "hoverlabel": {
           "align": "left"
          },
          "hovermode": "closest",
          "mapbox": {
           "style": "light"
          },
          "paper_bgcolor": "white",
          "plot_bgcolor": "#E5ECF6",
          "polar": {
           "angularaxis": {
            "gridcolor": "white",
            "linecolor": "white",
            "ticks": ""
           },
           "bgcolor": "#E5ECF6",
           "radialaxis": {
            "gridcolor": "white",
            "linecolor": "white",
            "ticks": ""
           }
          },
          "scene": {
           "xaxis": {
            "backgroundcolor": "#E5ECF6",
            "gridcolor": "white",
            "gridwidth": 2,
            "linecolor": "white",
            "showbackground": true,
            "ticks": "",
            "zerolinecolor": "white"
           },
           "yaxis": {
            "backgroundcolor": "#E5ECF6",
            "gridcolor": "white",
            "gridwidth": 2,
            "linecolor": "white",
            "showbackground": true,
            "ticks": "",
            "zerolinecolor": "white"
           },
           "zaxis": {
            "backgroundcolor": "#E5ECF6",
            "gridcolor": "white",
            "gridwidth": 2,
            "linecolor": "white",
            "showbackground": true,
            "ticks": "",
            "zerolinecolor": "white"
           }
          },
          "shapedefaults": {
           "line": {
            "color": "#2a3f5f"
           }
          },
          "ternary": {
           "aaxis": {
            "gridcolor": "white",
            "linecolor": "white",
            "ticks": ""
           },
           "baxis": {
            "gridcolor": "white",
            "linecolor": "white",
            "ticks": ""
           },
           "bgcolor": "#E5ECF6",
           "caxis": {
            "gridcolor": "white",
            "linecolor": "white",
            "ticks": ""
           }
          },
          "title": {
           "x": 0.05
          },
          "xaxis": {
           "automargin": true,
           "gridcolor": "white",
           "linecolor": "white",
           "ticks": "",
           "title": {
            "standoff": 15
           },
           "zerolinecolor": "white",
           "zerolinewidth": 2
          },
          "yaxis": {
           "automargin": true,
           "gridcolor": "white",
           "linecolor": "white",
           "ticks": "",
           "title": {
            "standoff": 15
           },
           "zerolinecolor": "white",
           "zerolinewidth": 2
          }
         }
        }
       }
      }
     },
     "metadata": {},
     "output_type": "display_data"
    }
   ],
   "source": [
    "import plotly.graph_objects as go\n",
    "spl_counts = df_9ptrs['spl'].value_counts()\n",
    "fig = go.Figure(data=[go.Pie(labels=spl_counts.index, values=spl_counts)])\n",
    "fig.show()"
   ]
  },
  {
   "cell_type": "code",
   "execution_count": null,
   "metadata": {},
   "outputs": [],
   "source": []
  },
  {
   "cell_type": "code",
   "execution_count": null,
   "metadata": {},
   "outputs": [],
   "source": []
  },
  {
   "cell_type": "code",
   "execution_count": null,
   "metadata": {},
   "outputs": [],
   "source": []
  },
  {
   "cell_type": "code",
   "execution_count": null,
   "metadata": {},
   "outputs": [],
   "source": []
  },
  {
   "cell_type": "code",
   "execution_count": null,
   "metadata": {},
   "outputs": [],
   "source": []
  },
  {
   "cell_type": "code",
   "execution_count": null,
   "metadata": {},
   "outputs": [],
   "source": []
  },
  {
   "cell_type": "code",
   "execution_count": null,
   "metadata": {},
   "outputs": [],
   "source": []
  },
  {
   "cell_type": "code",
   "execution_count": null,
   "id": "702b687e",
   "metadata": {},
   "outputs": [],
   "source": []
  },
  {
   "cell_type": "code",
   "execution_count": 72,
   "id": "f65a9ae6",
   "metadata": {},
   "outputs": [],
   "source": [
    "df_processed['9ptrs'] = df_processed['cgpa'].apply(lambda x: 1 if x >9 else 0)\n"
   ]
  },
  {
   "cell_type": "code",
   "execution_count": null,
   "id": "8cdbabd6",
   "metadata": {},
   "outputs": [
    {
     "data": {
      "text/plain": [
       "9ptrs\n",
       "0    142\n",
       "1     48\n",
       "Name: count, dtype: int64"
      ]
     },
     "execution_count": 100,
     "metadata": {},
     "output_type": "execute_result"
    }
   ],
   "source": [
    "df_processed['9ptrs'].value_counts()"
   ]
  },
  {
   "cell_type": "code",
   "execution_count": null,
   "id": "f3d9dba0",
   "metadata": {},
   "outputs": [
    {
     "data": {
      "text/plain": [
       "<Axes: xlabel='9ptrs', ylabel='count'>"
      ]
     },
     "execution_count": 117,
     "metadata": {},
     "output_type": "execute_result"
    },
    {
     "data": {
      "image/png": "[encoded data removed]",
      "text/plain": [
       "<Figure size 640x480 with 1 Axes>"
      ]
     },
     "metadata": {},
     "output_type": "display_data"
    }
   ],
   "source": [
    "sns.countplot(x ='9ptrs', hue='spl', data = df_processed)"
   ]
  },
  {
   "cell_type": "code",
   "execution_count": 105,
   "id": "c448f486",
   "metadata": {},
   "outputs": [
    {
     "data": {
      "text/plain": [
       "spl\n",
       "Nope    25\n",
       "Yep     23\n",
       "Name: 9ptrs, dtype: int64"
      ]
     },
     "execution_count": 105,
     "metadata": {},
     "output_type": "execute_result"
    }
   ],
   "source": [
    "df_processed.groupby('spl')['9ptrs'].sum()\n",
    "# df_processed['spl'].value_counts()"
   ]
  },
  {
   "cell_type": "code",
   "execution_count": null,
   "id": "4f3ceaa5",
   "metadata": {},
   "outputs": [
    {
     "data": {
      "text/plain": [
       "['EEE/EIE (and its spl)', 'Other', 'Civil', 'Other']"
      ]
     },
     "execution_count": 91,
     "metadata": {},
     "output_type": "execute_result"
    }
   ],
   "source": [
    "# def GroupBranch(df):\n",
    "branch_counts = df_processed['Branch'].value_counts()\n",
    "Branch_processed = branch_counts.loc[branch_counts<8].index.tolist() + ['Other']\n",
    "\n"
   ]
  },
  {
   "cell_type": "code",
   "execution_count": null,
   "id": "67fcca08",
   "metadata": {},
   "outputs": [],
   "source": []
  }
 ],
 "metadata": {
  "kernelspec": {
   "display_name": "venv",
   "language": "python",
   "name": "python3"
  },
  "language_info": {
   "codemirror_mode": {
    "name": "ipython",
    "version": 3
   },
   "file_extension": ".py",
   "mimetype": "text/x-python",
   "name": "python",
   "nbconvert_exporter": "python",
   "pygments_lexer": "ipython3",
   "version": "3.12.3"
  }
 },
 "nbformat": 4,
 "nbformat_minor": 5
}
